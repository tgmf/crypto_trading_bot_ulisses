{
 "cells": [
  {
   "cell_type": "markdown",
   "metadata": {},
   "source": [
    "# Cryptocurrency Data Exploration\n",
    "\n",
    "This notebook explores the data collected for our trading bot."
   ]
  },
  {
   "cell_type": "code",
   "execution_count": null,
   "metadata": {},
   "outputs": [],
   "source": [
    "import pandas as pd\n",
    "import numpy as np\n",
    "import matplotlib.pyplot as plt\n",
    "import seaborn as sns\n",
    "from pathlib import Path\n",
    "\n",
    "# Set plotting style\n",
    "plt.style.use('ggplot')\n",
    "sns.set_theme()\n",
    "\n",
    "# Display all dataframe columns\n",
    "pd.set_option('display.max_columns', None)"
   ]
  },
  {
   "cell_type": "markdown",
   "metadata": {},
   "source": [
    "## Load Data\n",
    "\n",
    "Let's load some data from our processed data directory."
   ]
  },
  {
   "cell_type": "code",
   "execution_count": null,
   "metadata": {},
   "outputs": [],
   "source": [
    "# Specify exchange, symbol, and timeframe\n",
    "exchange = 'binance'\n",
    "symbol = 'BTC_USDT'\n",
    "timeframe = '1m'\n",
    "\n",
    "# Load data\n",
    "try:\n",
    "    data_path = Path(f\"../data/processed/{exchange}/{symbol}/{timeframe}.csv\")\n",
    "    if data_path.exists():\n",
    "        df = pd.read_csv(data_path, index_col='timestamp', parse_dates=True)\n",
    "        print(f\"Loaded {len(df)} rows from {data_path}\")\n",
    "    else:\n",
    "        print(f\"Data file {data_path} not found. Please run data collection first.\")\n",
    "        df = None\n",
    "except Exception as e:\n",
    "    print(f\"Error loading data: {str(e)}\")\n",
    "    df = None"
   ]
  },
  {
   "cell_type": "markdown",
   "metadata": {},
   "source": [
    "## Explore Data\n",
    "\n",
    "If we have loaded data, let's examine it."
   ]
  },
  {
   "cell_type": "code",
   "execution_count": null,
   "metadata": {},
   "outputs": [],
   "source": [
    "if df is not None:\n",
    "    # Display basic information\n",
    "    print(\"\\nDataset Info:\")\n",
    "    print(f\"Date Range: {df.index.min()} to {df.index.max()}\")\n",
    "    print(f\"Number of Rows: {len(df)}\")\n",
    "    print(f\"Columns: {df.columns.tolist()}\")\n",
    "    \n",
    "    # Display sample data\n",
    "    print(\"\\nSample Data:\")\n",
    "    display(df.head())\n",
    "    \n",
    "    # Display summary statistics\n",
    "    print(\"\\nSummary Statistics:\")\n",
    "    display(df.describe())"
   ]
  },
  {
   "cell_type": "markdown",
   "metadata": {},
   "source": [
    "## Price and Volume Analysis"
   ]
  },
  {
   "cell_type": "code",
   "execution_count": null,
   "metadata": {},
   "outputs": [],
   "source": [
    "if df is not None:\n",
    "    # Plot price and volume\n",
    "    fig, (ax1, ax2) = plt.subplots(2, 1, figsize=(14, 8), sharex=True)\n",
    "    \n",
    "    # Plot price\n",
    "    ax1.plot(df.index, df['close'], label='Close Price')\n",
    "    ax1.set_ylabel('Price')\n",
    "    ax1.set_title(f'{symbol} Price')\n",
    "    ax1.legend()\n",
    "    ax1.grid(True)\n",
    "    \n",
    "    # Plot volume\n",
    "    ax2.bar(df.index, df['volume'], width=0.6, alpha=0.5, label='Volume')\n",
    "    ax2.set_ylabel('Volume')\n",
    "    ax2.set_title(f'{symbol} Volume')\n",
    "    ax2.legend()\n",
    "    ax2.grid(True)\n",
    "    \n",
    "    plt.tight_layout()\n",
    "    plt.show()"
   ]
  },
  {
   "cell_type": "markdown",
   "metadata": {},
   "source": [
    "## Technical Indicators"
   ]
  },
  {
   "cell_type": "code",
   "execution_count": null,
   "metadata": {},
   "outputs": [],
   "source": [
    "if df is not None and 'RSI_14' in df.columns and 'MACDh_12_26_9' in df.columns:\n",
    "    # Plot RSI and MACD\n",
    "    fig, (ax1, ax2, ax3) = plt.subplots(3, 1, figsize=(14, 12), sharex=True)\n",
    "    \n",
    "    # Plot price\n",
    "    ax1.plot(df.index, df['close'], label='Close Price')\n",
    "    ax1.set_ylabel('Price')\n",
    "    ax1.set_title(f'{symbol} Price')\n",
    "    ax1.legend()\n",
    "    ax1.grid(True)\n",
    "    \n",
    "    # Plot RSI\n",
    "    ax2.plot(df.index, df['RSI_14'], label='RSI')\n",
    "    ax2.axhline(y=70, color='r', linestyle='--', alpha=0.3)\n",
    "    ax2.axhline(y=30, color='g', linestyle='--', alpha=0.3)\n",
    "    ax2.set_ylabel('RSI')\n",
    "    ax2.set_title('RSI (14)')\n",
    "    ax2.legend()\n",
    "    ax2.grid(True)\n",
    "    \n",
    "    # Plot MACD Histogram\n",
    "    ax3.bar(df.index, df['MACDh_12_26_9'], width=0.6, alpha=0.5, label='MACD Histogram')\n",
    "    ax3.set_ylabel('MACD Histogram')\n",
    "    ax3.set_title('MACD Histogram')\n",
    "    ax3.legend()\n",
    "    ax3.grid(True)\n",
    "    \n",
    "    plt.tight_layout()\n",
    "    plt.show()"
   ]
  },
  {
   "cell_type": "markdown",
   "metadata": {},
   "source": [
    "## Correlation Analysis"
   ]
  },
  {
   "cell_type": "code",
   "execution_count": null,
   "metadata": {},
   "outputs": [],
   "source": [
    "if df is not None:\n",
    "    # Select numerical columns for correlation analysis\n",
    "    numeric_df = df.select_dtypes(include=[np.number])\n",
    "    \n",
    "    # Calculate correlation matrix\n",
    "    corr_matrix = numeric_df.corr()\n",
    "    \n",
    "    # Plot correlation heatmap\n",
    "    plt.figure(figsize=(14, 12))\n",
    "    sns.heatmap(corr_matrix, annot=False, cmap='coolwarm', vmin=-1, vmax=1)\n",
    "    plt.title('Feature Correlation Matrix')\n",
    "    plt.tight_layout()\n",
    "    plt.show()"
   ]
  },
  {
   "cell_type": "code",
   "execution_count": null,
   "metadata": {},
   "outputs": [],
   "source": [
    "if df is not None:\n",
    "    # Feature distributions\n",
    "    feature_cols = [\n",
    "        'bb_pos', 'RSI_14', 'MACDh_12_26_9', 'trend_strength', \n",
    "        'volatility', 'volume_ratio', 'range', 'rsi_diff'\n",
    "    ]\n",
    "    \n",
    "    if all(col in df.columns for col in feature_cols):\n",
    "        fig, axes = plt.subplots(len(feature_cols)//2, 2, figsize=(14, 3*len(feature_cols)//2))\n",
    "        axes = axes.flatten()\n",
    "        \n",
    "        for i, col in enumerate(feature_cols):\n",
    "            sns.histplot(df[col], kde=True, ax=axes[i])\n",
    "            axes[i].set_title(f'Distribution of {col}')\n",
    "            axes[i].grid(True)\n",
    "        \n",
    "        plt.tight_layout()\n",
    "        plt.show()"
   ]
  },
  {
   "cell_type": "markdown",
   "metadata": {},
   "source": [
    "## Next Steps\n",
    "\n",
    "Based on this initial exploration, here are some next steps to consider:\n",
    "\n",
    "1. Implement the feature target creation for model training\n",
    "2. Analyze the distribution of potential trades based on our profit target\n",
    "3. Select the most promising features for our initial model\n",
    "4. Implement the Bayesian model and train it on this data\n",
    "5. Analyze model performance through backtesting"
   ]
  }
 ],
 "metadata": {
  "kernelspec": {
   "display_name": "Python (Trading)",
   "language": "python",
   "name": "trading_env"
  },
  "language_info": {
   "codemirror_mode": {
    "name": "ipython",
    "version": 3
   },
   "file_extension": ".py",
   "mimetype": "text/x-python",
   "name": "python",
   "nbconvert_exporter": "python",
   "pygments_lexer": "ipython3",
   "version": "3.10.0"
  }
 },
 "nbformat": 4,
 "nbformat_minor": 4
}
