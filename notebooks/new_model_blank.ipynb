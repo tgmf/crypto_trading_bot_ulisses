{
 "cells": [
  {
   "cell_type": "code",
   "execution_count": null,
   "metadata": {
    "vscode": {
     "languageId": "plaintext"
    }
   },
   "outputs": [],
   "source": [
    "from src.models.model_factory import ModelFactory\n",
    "from src.core.param_manager import ParamManager\n",
    "\n",
    "# Get parameter manager\n",
    "params = ParamManager.get_instance()\n",
    "\n",
    "# Create a custom model class\n",
    "class MyExperimentalModel:\n",
    "    def __init__(self, params):\n",
    "        self.params = params\n",
    "        # Rest of model initialization\n",
    "        \n",
    "    def train(self):\n",
    "        # Training implementation\n",
    "        pass\n",
    "        \n",
    "    # Other required methods...\n",
    "\n",
    "# Get factory and register model\n",
    "factory = ModelFactory(params)\n",
    "factory.register_model('experimental', MyExperimentalModel)\n",
    "\n",
    "# Use the model\n",
    "params.set('experimental', 'model', 'type')\n",
    "model = factory.create_model()\n",
    "model.train()"
   ]
  }
 ],
 "metadata": {
  "language_info": {
   "name": "python"
  }
 },
 "nbformat": 4,
 "nbformat_minor": 2
}
